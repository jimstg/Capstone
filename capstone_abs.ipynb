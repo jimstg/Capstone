{
 "cells": [
  {
   "cell_type": "markdown",
   "metadata": {},
   "source": [
    "Introduction\n",
    "\n",
    "In this project I have imported data regarding the absenteeism of a company. The data is relatively clean without any \"null\" values or missing inputs. Many of the attributes are labeled as a \"0\" or a \"1\" determining whether that category is true for the individual or not. Other attributes are self explanatory. There will be three sections to the project: introduction, three questions and the work that supports the answer, and the conclusion. When completed I hope to show a relationship between at least one of the attributes and the amount of absenteeism for the workers."
   ]
  },
  {
   "cell_type": "code",
   "execution_count": 2,
   "metadata": {},
   "outputs": [],
   "source": [
    "#Here I imported the necessary files to complete the project.\n",
    "import pandas as pd\n",
    "import numpy as np\n",
    "import matplotlib.pyplot as plt\n",
    "from sklearn import linear_model\n",
    "%matplotlib inline"
   ]
  },
  {
   "cell_type": "code",
   "execution_count": 3,
   "metadata": {},
   "outputs": [],
   "source": [
    "#In this cell the dataframe was created from the csv file.\n",
    "df_abs = pd.read_csv('Absenteeism_at_work.csv')"
   ]
  },
  {
   "cell_type": "markdown",
   "metadata": {},
   "source": [
    "In this section I begin my exploration of the data set. First I looked at the overall structure of the dataframe, then I used the \"describe\" function to see some of the statistical high lights. From there I used the called the \"info\" function to determine the data types and the number of null values. "
   ]
  },
  {
   "cell_type": "code",
   "execution_count": 4,
   "metadata": {},
   "outputs": [
    {
     "data": {
      "text/html": [
       "<div>\n",
       "<style scoped>\n",
       "    .dataframe tbody tr th:only-of-type {\n",
       "        vertical-align: middle;\n",
       "    }\n",
       "\n",
       "    .dataframe tbody tr th {\n",
       "        vertical-align: top;\n",
       "    }\n",
       "\n",
       "    .dataframe thead th {\n",
       "        text-align: right;\n",
       "    }\n",
       "</style>\n",
       "<table border=\"1\" class=\"dataframe\">\n",
       "  <thead>\n",
       "    <tr style=\"text-align: right;\">\n",
       "      <th></th>\n",
       "      <th>ID</th>\n",
       "      <th>Reason for absence</th>\n",
       "      <th>Month of absence</th>\n",
       "      <th>Day of the week</th>\n",
       "      <th>Seasons</th>\n",
       "      <th>Transportation expense</th>\n",
       "      <th>Distance from Residence to Work</th>\n",
       "      <th>Service time</th>\n",
       "      <th>Age</th>\n",
       "      <th>Work load Average/day</th>\n",
       "      <th>...</th>\n",
       "      <th>Disciplinary failure</th>\n",
       "      <th>Education</th>\n",
       "      <th>Son</th>\n",
       "      <th>Social drinker</th>\n",
       "      <th>Social smoker</th>\n",
       "      <th>Pet</th>\n",
       "      <th>Weight</th>\n",
       "      <th>Height</th>\n",
       "      <th>Body mass index</th>\n",
       "      <th>Absenteeism time in hours</th>\n",
       "    </tr>\n",
       "  </thead>\n",
       "  <tbody>\n",
       "    <tr>\n",
       "      <th>0</th>\n",
       "      <td>11</td>\n",
       "      <td>26</td>\n",
       "      <td>7</td>\n",
       "      <td>3</td>\n",
       "      <td>1</td>\n",
       "      <td>289</td>\n",
       "      <td>36</td>\n",
       "      <td>13</td>\n",
       "      <td>33</td>\n",
       "      <td>239,554</td>\n",
       "      <td>...</td>\n",
       "      <td>0</td>\n",
       "      <td>1</td>\n",
       "      <td>2</td>\n",
       "      <td>1</td>\n",
       "      <td>0</td>\n",
       "      <td>1</td>\n",
       "      <td>90</td>\n",
       "      <td>172</td>\n",
       "      <td>30</td>\n",
       "      <td>4</td>\n",
       "    </tr>\n",
       "    <tr>\n",
       "      <th>1</th>\n",
       "      <td>36</td>\n",
       "      <td>0</td>\n",
       "      <td>7</td>\n",
       "      <td>3</td>\n",
       "      <td>1</td>\n",
       "      <td>118</td>\n",
       "      <td>13</td>\n",
       "      <td>18</td>\n",
       "      <td>50</td>\n",
       "      <td>239,554</td>\n",
       "      <td>...</td>\n",
       "      <td>1</td>\n",
       "      <td>1</td>\n",
       "      <td>1</td>\n",
       "      <td>1</td>\n",
       "      <td>0</td>\n",
       "      <td>0</td>\n",
       "      <td>98</td>\n",
       "      <td>178</td>\n",
       "      <td>31</td>\n",
       "      <td>0</td>\n",
       "    </tr>\n",
       "    <tr>\n",
       "      <th>2</th>\n",
       "      <td>3</td>\n",
       "      <td>23</td>\n",
       "      <td>7</td>\n",
       "      <td>4</td>\n",
       "      <td>1</td>\n",
       "      <td>179</td>\n",
       "      <td>51</td>\n",
       "      <td>18</td>\n",
       "      <td>38</td>\n",
       "      <td>239,554</td>\n",
       "      <td>...</td>\n",
       "      <td>0</td>\n",
       "      <td>1</td>\n",
       "      <td>0</td>\n",
       "      <td>1</td>\n",
       "      <td>0</td>\n",
       "      <td>0</td>\n",
       "      <td>89</td>\n",
       "      <td>170</td>\n",
       "      <td>31</td>\n",
       "      <td>2</td>\n",
       "    </tr>\n",
       "    <tr>\n",
       "      <th>3</th>\n",
       "      <td>7</td>\n",
       "      <td>7</td>\n",
       "      <td>7</td>\n",
       "      <td>5</td>\n",
       "      <td>1</td>\n",
       "      <td>279</td>\n",
       "      <td>5</td>\n",
       "      <td>14</td>\n",
       "      <td>39</td>\n",
       "      <td>239,554</td>\n",
       "      <td>...</td>\n",
       "      <td>0</td>\n",
       "      <td>1</td>\n",
       "      <td>2</td>\n",
       "      <td>1</td>\n",
       "      <td>1</td>\n",
       "      <td>0</td>\n",
       "      <td>68</td>\n",
       "      <td>168</td>\n",
       "      <td>24</td>\n",
       "      <td>4</td>\n",
       "    </tr>\n",
       "    <tr>\n",
       "      <th>4</th>\n",
       "      <td>11</td>\n",
       "      <td>23</td>\n",
       "      <td>7</td>\n",
       "      <td>5</td>\n",
       "      <td>1</td>\n",
       "      <td>289</td>\n",
       "      <td>36</td>\n",
       "      <td>13</td>\n",
       "      <td>33</td>\n",
       "      <td>239,554</td>\n",
       "      <td>...</td>\n",
       "      <td>0</td>\n",
       "      <td>1</td>\n",
       "      <td>2</td>\n",
       "      <td>1</td>\n",
       "      <td>0</td>\n",
       "      <td>1</td>\n",
       "      <td>90</td>\n",
       "      <td>172</td>\n",
       "      <td>30</td>\n",
       "      <td>2</td>\n",
       "    </tr>\n",
       "  </tbody>\n",
       "</table>\n",
       "<p>5 rows × 21 columns</p>\n",
       "</div>"
      ],
      "text/plain": [
       "   ID  Reason for absence  Month of absence  Day of the week  Seasons  \\\n",
       "0  11                  26                 7                3        1   \n",
       "1  36                   0                 7                3        1   \n",
       "2   3                  23                 7                4        1   \n",
       "3   7                   7                 7                5        1   \n",
       "4  11                  23                 7                5        1   \n",
       "\n",
       "   Transportation expense  Distance from Residence to Work  Service time  Age  \\\n",
       "0                     289                               36            13   33   \n",
       "1                     118                               13            18   50   \n",
       "2                     179                               51            18   38   \n",
       "3                     279                                5            14   39   \n",
       "4                     289                               36            13   33   \n",
       "\n",
       "  Work load Average/day             ...              Disciplinary failure  \\\n",
       "0                239,554            ...                                 0   \n",
       "1                239,554            ...                                 1   \n",
       "2                239,554            ...                                 0   \n",
       "3                239,554            ...                                 0   \n",
       "4                239,554            ...                                 0   \n",
       "\n",
       "   Education  Son  Social drinker  Social smoker  Pet  Weight  Height  \\\n",
       "0          1    2               1              0    1      90     172   \n",
       "1          1    1               1              0    0      98     178   \n",
       "2          1    0               1              0    0      89     170   \n",
       "3          1    2               1              1    0      68     168   \n",
       "4          1    2               1              0    1      90     172   \n",
       "\n",
       "   Body mass index  Absenteeism time in hours  \n",
       "0               30                          4  \n",
       "1               31                          0  \n",
       "2               31                          2  \n",
       "3               24                          4  \n",
       "4               30                          2  \n",
       "\n",
       "[5 rows x 21 columns]"
      ]
     },
     "execution_count": 4,
     "metadata": {},
     "output_type": "execute_result"
    }
   ],
   "source": [
    "#Taking a quick peak at the dataframe to be sure it looks the way I expected.\n",
    "df_abs.head()"
   ]
  },
  {
   "cell_type": "code",
   "execution_count": 5,
   "metadata": {},
   "outputs": [
    {
     "data": {
      "text/html": [
       "<div>\n",
       "<style scoped>\n",
       "    .dataframe tbody tr th:only-of-type {\n",
       "        vertical-align: middle;\n",
       "    }\n",
       "\n",
       "    .dataframe tbody tr th {\n",
       "        vertical-align: top;\n",
       "    }\n",
       "\n",
       "    .dataframe thead th {\n",
       "        text-align: right;\n",
       "    }\n",
       "</style>\n",
       "<table border=\"1\" class=\"dataframe\">\n",
       "  <thead>\n",
       "    <tr style=\"text-align: right;\">\n",
       "      <th></th>\n",
       "      <th>ID</th>\n",
       "      <th>reason</th>\n",
       "      <th>month</th>\n",
       "      <th>day</th>\n",
       "      <th>Seasons</th>\n",
       "      <th>trans_exp</th>\n",
       "      <th>dist_to_work</th>\n",
       "      <th>service_time</th>\n",
       "      <th>Age</th>\n",
       "      <th>Work load Average/day</th>\n",
       "      <th>...</th>\n",
       "      <th>discipline</th>\n",
       "      <th>Education</th>\n",
       "      <th>children</th>\n",
       "      <th>social_drinker</th>\n",
       "      <th>social_smoker</th>\n",
       "      <th>Pet</th>\n",
       "      <th>Weight</th>\n",
       "      <th>Height</th>\n",
       "      <th>BMI</th>\n",
       "      <th>absent_time</th>\n",
       "    </tr>\n",
       "  </thead>\n",
       "  <tbody>\n",
       "    <tr>\n",
       "      <th>0</th>\n",
       "      <td>11</td>\n",
       "      <td>26</td>\n",
       "      <td>7</td>\n",
       "      <td>3</td>\n",
       "      <td>1</td>\n",
       "      <td>289</td>\n",
       "      <td>36</td>\n",
       "      <td>13</td>\n",
       "      <td>33</td>\n",
       "      <td>239,554</td>\n",
       "      <td>...</td>\n",
       "      <td>0</td>\n",
       "      <td>1</td>\n",
       "      <td>2</td>\n",
       "      <td>1</td>\n",
       "      <td>0</td>\n",
       "      <td>1</td>\n",
       "      <td>90</td>\n",
       "      <td>172</td>\n",
       "      <td>30</td>\n",
       "      <td>4</td>\n",
       "    </tr>\n",
       "    <tr>\n",
       "      <th>1</th>\n",
       "      <td>36</td>\n",
       "      <td>0</td>\n",
       "      <td>7</td>\n",
       "      <td>3</td>\n",
       "      <td>1</td>\n",
       "      <td>118</td>\n",
       "      <td>13</td>\n",
       "      <td>18</td>\n",
       "      <td>50</td>\n",
       "      <td>239,554</td>\n",
       "      <td>...</td>\n",
       "      <td>1</td>\n",
       "      <td>1</td>\n",
       "      <td>1</td>\n",
       "      <td>1</td>\n",
       "      <td>0</td>\n",
       "      <td>0</td>\n",
       "      <td>98</td>\n",
       "      <td>178</td>\n",
       "      <td>31</td>\n",
       "      <td>0</td>\n",
       "    </tr>\n",
       "    <tr>\n",
       "      <th>2</th>\n",
       "      <td>3</td>\n",
       "      <td>23</td>\n",
       "      <td>7</td>\n",
       "      <td>4</td>\n",
       "      <td>1</td>\n",
       "      <td>179</td>\n",
       "      <td>51</td>\n",
       "      <td>18</td>\n",
       "      <td>38</td>\n",
       "      <td>239,554</td>\n",
       "      <td>...</td>\n",
       "      <td>0</td>\n",
       "      <td>1</td>\n",
       "      <td>0</td>\n",
       "      <td>1</td>\n",
       "      <td>0</td>\n",
       "      <td>0</td>\n",
       "      <td>89</td>\n",
       "      <td>170</td>\n",
       "      <td>31</td>\n",
       "      <td>2</td>\n",
       "    </tr>\n",
       "    <tr>\n",
       "      <th>3</th>\n",
       "      <td>7</td>\n",
       "      <td>7</td>\n",
       "      <td>7</td>\n",
       "      <td>5</td>\n",
       "      <td>1</td>\n",
       "      <td>279</td>\n",
       "      <td>5</td>\n",
       "      <td>14</td>\n",
       "      <td>39</td>\n",
       "      <td>239,554</td>\n",
       "      <td>...</td>\n",
       "      <td>0</td>\n",
       "      <td>1</td>\n",
       "      <td>2</td>\n",
       "      <td>1</td>\n",
       "      <td>1</td>\n",
       "      <td>0</td>\n",
       "      <td>68</td>\n",
       "      <td>168</td>\n",
       "      <td>24</td>\n",
       "      <td>4</td>\n",
       "    </tr>\n",
       "    <tr>\n",
       "      <th>4</th>\n",
       "      <td>11</td>\n",
       "      <td>23</td>\n",
       "      <td>7</td>\n",
       "      <td>5</td>\n",
       "      <td>1</td>\n",
       "      <td>289</td>\n",
       "      <td>36</td>\n",
       "      <td>13</td>\n",
       "      <td>33</td>\n",
       "      <td>239,554</td>\n",
       "      <td>...</td>\n",
       "      <td>0</td>\n",
       "      <td>1</td>\n",
       "      <td>2</td>\n",
       "      <td>1</td>\n",
       "      <td>0</td>\n",
       "      <td>1</td>\n",
       "      <td>90</td>\n",
       "      <td>172</td>\n",
       "      <td>30</td>\n",
       "      <td>2</td>\n",
       "    </tr>\n",
       "  </tbody>\n",
       "</table>\n",
       "<p>5 rows × 21 columns</p>\n",
       "</div>"
      ],
      "text/plain": [
       "   ID  reason  month  day  Seasons  trans_exp  dist_to_work  service_time  \\\n",
       "0  11      26      7    3        1        289            36            13   \n",
       "1  36       0      7    3        1        118            13            18   \n",
       "2   3      23      7    4        1        179            51            18   \n",
       "3   7       7      7    5        1        279             5            14   \n",
       "4  11      23      7    5        1        289            36            13   \n",
       "\n",
       "   Age Work load Average/day      ...       discipline  Education  children  \\\n",
       "0   33                239,554     ...                0          1         2   \n",
       "1   50                239,554     ...                1          1         1   \n",
       "2   38                239,554     ...                0          1         0   \n",
       "3   39                239,554     ...                0          1         2   \n",
       "4   33                239,554     ...                0          1         2   \n",
       "\n",
       "   social_drinker  social_smoker  Pet  Weight  Height  BMI  absent_time  \n",
       "0               1              0    1      90     172   30            4  \n",
       "1               1              0    0      98     178   31            0  \n",
       "2               1              0    0      89     170   31            2  \n",
       "3               1              1    0      68     168   24            4  \n",
       "4               1              0    1      90     172   30            2  \n",
       "\n",
       "[5 rows x 21 columns]"
      ]
     },
     "execution_count": 5,
     "metadata": {},
     "output_type": "execute_result"
    }
   ],
   "source": [
    "#The column names were difficult to remember and to use in the coding. I changed the column names for an easier code.\n",
    "df_abs=df_abs.rename(columns={'Reason for absence':'reason','Month of absence':'month','Day of the week':'day','Transportation expense':'trans_exp','Distance from Residence to Work':'dist_to_work',\n",
    "                       'Service time':'service_time','Disciplinary failure':'discipline','Son':'children','Social drinker':'social_drinker','Social smoker':'social_smoker','Body mass index':'BMI','Absenteeism time in hours':'absent_time'})\n",
    "df_abs.head()"
   ]
  },
  {
   "cell_type": "code",
   "execution_count": 6,
   "metadata": {},
   "outputs": [
    {
     "data": {
      "text/html": [
       "<div>\n",
       "<style scoped>\n",
       "    .dataframe tbody tr th:only-of-type {\n",
       "        vertical-align: middle;\n",
       "    }\n",
       "\n",
       "    .dataframe tbody tr th {\n",
       "        vertical-align: top;\n",
       "    }\n",
       "\n",
       "    .dataframe thead th {\n",
       "        text-align: right;\n",
       "    }\n",
       "</style>\n",
       "<table border=\"1\" class=\"dataframe\">\n",
       "  <thead>\n",
       "    <tr style=\"text-align: right;\">\n",
       "      <th></th>\n",
       "      <th>ID</th>\n",
       "      <th>reason</th>\n",
       "      <th>month</th>\n",
       "      <th>day</th>\n",
       "      <th>Seasons</th>\n",
       "      <th>trans_exp</th>\n",
       "      <th>dist_to_work</th>\n",
       "      <th>service_time</th>\n",
       "      <th>Age</th>\n",
       "      <th>Hit target</th>\n",
       "      <th>discipline</th>\n",
       "      <th>Education</th>\n",
       "      <th>children</th>\n",
       "      <th>social_drinker</th>\n",
       "      <th>social_smoker</th>\n",
       "      <th>Pet</th>\n",
       "      <th>Weight</th>\n",
       "      <th>Height</th>\n",
       "      <th>BMI</th>\n",
       "      <th>absent_time</th>\n",
       "    </tr>\n",
       "  </thead>\n",
       "  <tbody>\n",
       "    <tr>\n",
       "      <th>count</th>\n",
       "      <td>740.000000</td>\n",
       "      <td>740.000000</td>\n",
       "      <td>740.000000</td>\n",
       "      <td>740.000000</td>\n",
       "      <td>740.000000</td>\n",
       "      <td>740.000000</td>\n",
       "      <td>740.000000</td>\n",
       "      <td>740.000000</td>\n",
       "      <td>740.000000</td>\n",
       "      <td>740.000000</td>\n",
       "      <td>740.000000</td>\n",
       "      <td>740.000000</td>\n",
       "      <td>740.000000</td>\n",
       "      <td>740.000000</td>\n",
       "      <td>740.000000</td>\n",
       "      <td>740.000000</td>\n",
       "      <td>740.000000</td>\n",
       "      <td>740.000000</td>\n",
       "      <td>740.000000</td>\n",
       "      <td>740.000000</td>\n",
       "    </tr>\n",
       "    <tr>\n",
       "      <th>mean</th>\n",
       "      <td>18.017568</td>\n",
       "      <td>19.216216</td>\n",
       "      <td>6.324324</td>\n",
       "      <td>3.914865</td>\n",
       "      <td>2.544595</td>\n",
       "      <td>221.329730</td>\n",
       "      <td>29.631081</td>\n",
       "      <td>12.554054</td>\n",
       "      <td>36.450000</td>\n",
       "      <td>94.587838</td>\n",
       "      <td>0.054054</td>\n",
       "      <td>1.291892</td>\n",
       "      <td>1.018919</td>\n",
       "      <td>0.567568</td>\n",
       "      <td>0.072973</td>\n",
       "      <td>0.745946</td>\n",
       "      <td>79.035135</td>\n",
       "      <td>172.114865</td>\n",
       "      <td>26.677027</td>\n",
       "      <td>6.924324</td>\n",
       "    </tr>\n",
       "    <tr>\n",
       "      <th>std</th>\n",
       "      <td>11.021247</td>\n",
       "      <td>8.433406</td>\n",
       "      <td>3.436287</td>\n",
       "      <td>1.421675</td>\n",
       "      <td>1.111831</td>\n",
       "      <td>66.952223</td>\n",
       "      <td>14.836788</td>\n",
       "      <td>4.384873</td>\n",
       "      <td>6.478772</td>\n",
       "      <td>3.779313</td>\n",
       "      <td>0.226277</td>\n",
       "      <td>0.673238</td>\n",
       "      <td>1.098489</td>\n",
       "      <td>0.495749</td>\n",
       "      <td>0.260268</td>\n",
       "      <td>1.318258</td>\n",
       "      <td>12.883211</td>\n",
       "      <td>6.034995</td>\n",
       "      <td>4.285452</td>\n",
       "      <td>13.330998</td>\n",
       "    </tr>\n",
       "    <tr>\n",
       "      <th>min</th>\n",
       "      <td>1.000000</td>\n",
       "      <td>0.000000</td>\n",
       "      <td>0.000000</td>\n",
       "      <td>2.000000</td>\n",
       "      <td>1.000000</td>\n",
       "      <td>118.000000</td>\n",
       "      <td>5.000000</td>\n",
       "      <td>1.000000</td>\n",
       "      <td>27.000000</td>\n",
       "      <td>81.000000</td>\n",
       "      <td>0.000000</td>\n",
       "      <td>1.000000</td>\n",
       "      <td>0.000000</td>\n",
       "      <td>0.000000</td>\n",
       "      <td>0.000000</td>\n",
       "      <td>0.000000</td>\n",
       "      <td>56.000000</td>\n",
       "      <td>163.000000</td>\n",
       "      <td>19.000000</td>\n",
       "      <td>0.000000</td>\n",
       "    </tr>\n",
       "    <tr>\n",
       "      <th>25%</th>\n",
       "      <td>9.000000</td>\n",
       "      <td>13.000000</td>\n",
       "      <td>3.000000</td>\n",
       "      <td>3.000000</td>\n",
       "      <td>2.000000</td>\n",
       "      <td>179.000000</td>\n",
       "      <td>16.000000</td>\n",
       "      <td>9.000000</td>\n",
       "      <td>31.000000</td>\n",
       "      <td>93.000000</td>\n",
       "      <td>0.000000</td>\n",
       "      <td>1.000000</td>\n",
       "      <td>0.000000</td>\n",
       "      <td>0.000000</td>\n",
       "      <td>0.000000</td>\n",
       "      <td>0.000000</td>\n",
       "      <td>69.000000</td>\n",
       "      <td>169.000000</td>\n",
       "      <td>24.000000</td>\n",
       "      <td>2.000000</td>\n",
       "    </tr>\n",
       "    <tr>\n",
       "      <th>50%</th>\n",
       "      <td>18.000000</td>\n",
       "      <td>23.000000</td>\n",
       "      <td>6.000000</td>\n",
       "      <td>4.000000</td>\n",
       "      <td>3.000000</td>\n",
       "      <td>225.000000</td>\n",
       "      <td>26.000000</td>\n",
       "      <td>13.000000</td>\n",
       "      <td>37.000000</td>\n",
       "      <td>95.000000</td>\n",
       "      <td>0.000000</td>\n",
       "      <td>1.000000</td>\n",
       "      <td>1.000000</td>\n",
       "      <td>1.000000</td>\n",
       "      <td>0.000000</td>\n",
       "      <td>0.000000</td>\n",
       "      <td>83.000000</td>\n",
       "      <td>170.000000</td>\n",
       "      <td>25.000000</td>\n",
       "      <td>3.000000</td>\n",
       "    </tr>\n",
       "    <tr>\n",
       "      <th>75%</th>\n",
       "      <td>28.000000</td>\n",
       "      <td>26.000000</td>\n",
       "      <td>9.000000</td>\n",
       "      <td>5.000000</td>\n",
       "      <td>4.000000</td>\n",
       "      <td>260.000000</td>\n",
       "      <td>50.000000</td>\n",
       "      <td>16.000000</td>\n",
       "      <td>40.000000</td>\n",
       "      <td>97.000000</td>\n",
       "      <td>0.000000</td>\n",
       "      <td>1.000000</td>\n",
       "      <td>2.000000</td>\n",
       "      <td>1.000000</td>\n",
       "      <td>0.000000</td>\n",
       "      <td>1.000000</td>\n",
       "      <td>89.000000</td>\n",
       "      <td>172.000000</td>\n",
       "      <td>31.000000</td>\n",
       "      <td>8.000000</td>\n",
       "    </tr>\n",
       "    <tr>\n",
       "      <th>max</th>\n",
       "      <td>36.000000</td>\n",
       "      <td>28.000000</td>\n",
       "      <td>12.000000</td>\n",
       "      <td>6.000000</td>\n",
       "      <td>4.000000</td>\n",
       "      <td>388.000000</td>\n",
       "      <td>52.000000</td>\n",
       "      <td>29.000000</td>\n",
       "      <td>58.000000</td>\n",
       "      <td>100.000000</td>\n",
       "      <td>1.000000</td>\n",
       "      <td>4.000000</td>\n",
       "      <td>4.000000</td>\n",
       "      <td>1.000000</td>\n",
       "      <td>1.000000</td>\n",
       "      <td>8.000000</td>\n",
       "      <td>108.000000</td>\n",
       "      <td>196.000000</td>\n",
       "      <td>38.000000</td>\n",
       "      <td>120.000000</td>\n",
       "    </tr>\n",
       "  </tbody>\n",
       "</table>\n",
       "</div>"
      ],
      "text/plain": [
       "               ID      reason       month         day     Seasons   trans_exp  \\\n",
       "count  740.000000  740.000000  740.000000  740.000000  740.000000  740.000000   \n",
       "mean    18.017568   19.216216    6.324324    3.914865    2.544595  221.329730   \n",
       "std     11.021247    8.433406    3.436287    1.421675    1.111831   66.952223   \n",
       "min      1.000000    0.000000    0.000000    2.000000    1.000000  118.000000   \n",
       "25%      9.000000   13.000000    3.000000    3.000000    2.000000  179.000000   \n",
       "50%     18.000000   23.000000    6.000000    4.000000    3.000000  225.000000   \n",
       "75%     28.000000   26.000000    9.000000    5.000000    4.000000  260.000000   \n",
       "max     36.000000   28.000000   12.000000    6.000000    4.000000  388.000000   \n",
       "\n",
       "       dist_to_work  service_time         Age  Hit target  discipline  \\\n",
       "count    740.000000    740.000000  740.000000  740.000000  740.000000   \n",
       "mean      29.631081     12.554054   36.450000   94.587838    0.054054   \n",
       "std       14.836788      4.384873    6.478772    3.779313    0.226277   \n",
       "min        5.000000      1.000000   27.000000   81.000000    0.000000   \n",
       "25%       16.000000      9.000000   31.000000   93.000000    0.000000   \n",
       "50%       26.000000     13.000000   37.000000   95.000000    0.000000   \n",
       "75%       50.000000     16.000000   40.000000   97.000000    0.000000   \n",
       "max       52.000000     29.000000   58.000000  100.000000    1.000000   \n",
       "\n",
       "        Education    children  social_drinker  social_smoker         Pet  \\\n",
       "count  740.000000  740.000000      740.000000     740.000000  740.000000   \n",
       "mean     1.291892    1.018919        0.567568       0.072973    0.745946   \n",
       "std      0.673238    1.098489        0.495749       0.260268    1.318258   \n",
       "min      1.000000    0.000000        0.000000       0.000000    0.000000   \n",
       "25%      1.000000    0.000000        0.000000       0.000000    0.000000   \n",
       "50%      1.000000    1.000000        1.000000       0.000000    0.000000   \n",
       "75%      1.000000    2.000000        1.000000       0.000000    1.000000   \n",
       "max      4.000000    4.000000        1.000000       1.000000    8.000000   \n",
       "\n",
       "           Weight      Height         BMI  absent_time  \n",
       "count  740.000000  740.000000  740.000000   740.000000  \n",
       "mean    79.035135  172.114865   26.677027     6.924324  \n",
       "std     12.883211    6.034995    4.285452    13.330998  \n",
       "min     56.000000  163.000000   19.000000     0.000000  \n",
       "25%     69.000000  169.000000   24.000000     2.000000  \n",
       "50%     83.000000  170.000000   25.000000     3.000000  \n",
       "75%     89.000000  172.000000   31.000000     8.000000  \n",
       "max    108.000000  196.000000   38.000000   120.000000  "
      ]
     },
     "execution_count": 6,
     "metadata": {},
     "output_type": "execute_result"
    }
   ],
   "source": [
    "#This is an opportunity to review the key statistics of the dataframe.\n",
    "df_abs.describe()"
   ]
  },
  {
   "cell_type": "code",
   "execution_count": 7,
   "metadata": {},
   "outputs": [
    {
     "name": "stdout",
     "output_type": "stream",
     "text": [
      "<class 'pandas.core.frame.DataFrame'>\n",
      "RangeIndex: 740 entries, 0 to 739\n",
      "Data columns (total 21 columns):\n",
      "ID                        740 non-null int64\n",
      "reason                    740 non-null int64\n",
      "month                     740 non-null int64\n",
      "day                       740 non-null int64\n",
      "Seasons                   740 non-null int64\n",
      "trans_exp                 740 non-null int64\n",
      "dist_to_work              740 non-null int64\n",
      "service_time              740 non-null int64\n",
      "Age                       740 non-null int64\n",
      "Work load Average/day     740 non-null object\n",
      "Hit target                740 non-null int64\n",
      "discipline                740 non-null int64\n",
      "Education                 740 non-null int64\n",
      "children                  740 non-null int64\n",
      "social_drinker            740 non-null int64\n",
      "social_smoker             740 non-null int64\n",
      "Pet                       740 non-null int64\n",
      "Weight                    740 non-null int64\n",
      "Height                    740 non-null int64\n",
      "BMI                       740 non-null int64\n",
      "absent_time               740 non-null int64\n",
      "dtypes: int64(20), object(1)\n",
      "memory usage: 121.5+ KB\n"
     ]
    }
   ],
   "source": [
    "#I am taking a good look at the data from all perspectives. This information allows me to understand what data types \n",
    "#I am working with.\n",
    "df_abs.info()"
   ]
  },
  {
   "cell_type": "markdown",
   "metadata": {},
   "source": [
    "Following the inspection of the data, I started with a simple question, \"Which employee had the most absences in the dataset?\" I ran a value count on the 'ID' numbers to determine the number of times the data showed a particular ID number. It appears that ID #3 has the most reported absences during the time frame. I then displayed the ID numbers and absences on a scater plot to get an idea for the shape of the data. Again, employee number 3 stood out in the scatter plot as an outlier, well above the others in number of absences. These two visuals led me to ask what is the distribution of absences for the employees by ID number. The histogram at the end provided a good visual of how the absences are dispursed among the employees. This being skewed to the right shows that the employees do not seem to abuse the absenteeism in this company."
   ]
  },
  {
   "cell_type": "code",
   "execution_count": 8,
   "metadata": {},
   "outputs": [
    {
     "name": "stdout",
     "output_type": "stream",
     "text": [
      "3     113\n",
      "28     76\n",
      "34     55\n",
      "22     46\n",
      "20     42\n",
      "11     40\n",
      "15     37\n",
      "36     34\n",
      "24     30\n",
      "14     29\n",
      "33     24\n",
      "10     24\n",
      "1      23\n",
      "17     20\n",
      "5      19\n",
      "18     16\n",
      "13     15\n",
      "25     10\n",
      "6       8\n",
      "9       8\n",
      "23      8\n",
      "27      7\n",
      "30      7\n",
      "12      7\n",
      "7       6\n",
      "2       6\n",
      "29      5\n",
      "26      5\n",
      "32      5\n",
      "31      3\n",
      "19      3\n",
      "21      3\n",
      "16      2\n",
      "8       2\n",
      "35      1\n",
      "4       1\n",
      "Name: ID, dtype: int64\n"
     ]
    }
   ],
   "source": [
    "#This is a quick look at the number of absences per employee. ID number 3 seems to have the most.\n",
    "emp_abs = df_abs['ID'].value_counts()\n",
    "print(emp_abs)"
   ]
  },
  {
   "cell_type": "code",
   "execution_count": 32,
   "metadata": {},
   "outputs": [
    {
     "data": {
      "text/plain": [
       "count     36.000000\n",
       "mean      20.555556\n",
       "std       23.695020\n",
       "min        1.000000\n",
       "25%        5.000000\n",
       "50%        9.000000\n",
       "75%       29.250000\n",
       "max      113.000000\n",
       "Name: ID, dtype: float64"
      ]
     },
     "execution_count": 32,
     "metadata": {},
     "output_type": "execute_result"
    }
   ],
   "source": [
    "emp_abs.describe()"
   ]
  },
  {
   "cell_type": "code",
   "execution_count": 9,
   "metadata": {},
   "outputs": [
    {
     "data": {
      "image/png": "[encoded data removed]",
      "text/plain": [
       "<Figure size 432x288 with 1 Axes>"
      ]
     },
     "metadata": {
      "needs_background": "light"
     },
     "output_type": "display_data"
    }
   ],
   "source": [
    "#This scatter plot shows no relationship between the ID number and the Number of absences. It is a good visual to determine\n",
    "#if there are any outliers. You can see that employee with ID number 3 is an outlier with over 100 absences.\n",
    "plt.scatter(emp_abs.index, emp_abs);\n",
    "plt.xlabel('ID Number')\n",
    "plt.ylabel('Number of Reported Absences')\n",
    "plt.title('ID Number and Number of Absences');"
   ]
  },
  {
   "cell_type": "code",
   "execution_count": 10,
   "metadata": {
    "scrolled": true
   },
   "outputs": [
    {
     "data": {
      "image/png": "[encoded data removed]",
      "text/plain": [
       "<Figure size 432x288 with 1 Axes>"
      ]
     },
     "metadata": {
      "needs_background": "light"
     },
     "output_type": "display_data"
    }
   ],
   "source": [
    "#A histogram of the absentee counts shows that it is skewed to the right. This is a good sign that not many employees are \n",
    "#abusing their leave.\n",
    "plt.hist(df_abs['ID'].value_counts());\n",
    "plt.xlabel('Number of Times ID shows up in Count');\n",
    "plt.ylabel('Number of Occurances');\n",
    "plt.title('Number of Absences Per Employee ID');"
   ]
  },
  {
   "cell_type": "markdown",
   "metadata": {},
   "source": [
    "After assessing the number of absences per employee, I wanted to see if there was any relationships between various attributes and the amount of absenteeism times in hours. The first attribute I wanted to compare was the employees age. After grouping the data by age, I ran a scatter plot to see if there was a relationship between the age of an employee and the number hours they are absent. When it was complete the graph did not show a reasonable relationship between the two variable. There was no clear pattern to the scatter plot. This was followed up with a line plot of the average absenteeism for each age. This still did not show a solid pattern that could be used for prediction."
   ]
  },
  {
   "cell_type": "code",
   "execution_count": 11,
   "metadata": {},
   "outputs": [
    {
     "name": "stdout",
     "output_type": "stream",
     "text": [
      "Age\n",
      "27     27\n",
      "28    651\n",
      "29     31\n",
      "30    253\n",
      "31    217\n",
      "32     48\n",
      "33    538\n",
      "34    476\n",
      "36    346\n",
      "37    465\n",
      "38    482\n",
      "39     30\n",
      "40    379\n",
      "41    275\n",
      "43    187\n",
      "46     16\n",
      "47     73\n",
      "48     25\n",
      "49     16\n",
      "50    327\n",
      "53      0\n",
      "58    262\n",
      "Name: absent_time, dtype: int64\n"
     ]
    }
   ],
   "source": [
    "#I created a dataframe that had the age of the employees and their combined hours of abseteeism.\n",
    "abs_age = df_abs.groupby(['Age']).absent_time.sum()\n",
    "print(abs_age)"
   ]
  },
  {
   "cell_type": "code",
   "execution_count": 12,
   "metadata": {},
   "outputs": [
    {
     "data": {
      "image/png": "[encoded data removed]",
      "text/plain": [
       "<Figure size 432x288 with 1 Axes>"
      ]
     },
     "metadata": {
      "needs_background": "light"
     },
     "output_type": "display_data"
    }
   ],
   "source": [
    "#The scatter plot below shows that there is no correlation between age and Absenteeism time.\n",
    "plt.scatter(abs_age.index, abs_age)\n",
    "plt.xlabel('Age')\n",
    "plt.ylabel('Total Hours Absent')\n",
    "plt.title('Ages and the Total Hours Absent');"
   ]
  },
  {
   "cell_type": "code",
   "execution_count": 13,
   "metadata": {},
   "outputs": [
    {
     "name": "stdout",
     "output_type": "stream",
     "text": [
      "Age\n",
      "27     3.857143\n",
      "28     5.564103\n",
      "29     4.428571\n",
      "30     5.500000\n",
      "31     9.863636\n",
      "32     3.692308\n",
      "33    10.549020\n",
      "34    16.413793\n",
      "36     6.920000\n",
      "37     5.961538\n",
      "38     4.265487\n",
      "39     3.750000\n",
      "40     6.534483\n",
      "41     8.088235\n",
      "43     7.791667\n",
      "46     8.000000\n",
      "47     3.041667\n",
      "48     4.166667\n",
      "49     3.200000\n",
      "50     8.837838\n",
      "53     0.000000\n",
      "58    32.750000\n",
      "Name: absent_time, dtype: float64\n"
     ]
    }
   ],
   "source": [
    "#To eleviate the summation as a skewed value, I decided to find the mean of the hours absent and plot it on a line graph.\n",
    "abs_age_mean=df_abs.groupby(['Age']).absent_time.mean()\n",
    "print(abs_age_mean)"
   ]
  },
  {
   "cell_type": "code",
   "execution_count": 14,
   "metadata": {},
   "outputs": [
    {
     "data": {
      "image/png": "[encoded data removed]",
      "text/plain": [
       "<Figure size 432x288 with 1 Axes>"
      ]
     },
     "metadata": {
      "needs_background": "light"
     },
     "output_type": "display_data"
    }
   ],
   "source": [
    "#This is a line graph displaying the mean hours absent and the ages of the employees.\n",
    "plt.plot(abs_age_mean.index,abs_age_mean,color='red')\n",
    "plt.xlabel('Age')\n",
    "plt.ylabel('Mean Hours Absent')\n",
    "plt.title('Age and Mean Hours Absent');"
   ]
  },
  {
   "cell_type": "markdown",
   "metadata": {},
   "source": [
    "The next attribute to compare to Absenteeism time is the Social smokers. I wondered if the smokers took more time due to their health. The bar chart displays the mean time that the social smokers took off compared to the mean time of the non-smokers. It showed that the mean time for the non-smokers was actually higher than the smokers, so there was not correlation between smoking and being absent more often."
   ]
  },
  {
   "cell_type": "code",
   "execution_count": 15,
   "metadata": {},
   "outputs": [
    {
     "name": "stdout",
     "output_type": "stream",
     "text": [
      "social_smoker\n",
      "0    6.957726\n",
      "1    6.500000\n",
      "Name: absent_time, dtype: float64\n"
     ]
    }
   ],
   "source": [
    "#Creating a dataframe with the mean absent time of the employees that are considered \"social smokers.\"\n",
    "abs_smoker = df_abs.groupby(['social_smoker']).absent_time.mean()\n",
    "print(abs_smoker)"
   ]
  },
  {
   "cell_type": "code",
   "execution_count": 30,
   "metadata": {},
   "outputs": [
    {
     "data": {
      "image/png": "[encoded data removed]",
      "text/plain": [
       "<Figure size 432x288 with 1 Axes>"
      ]
     },
     "metadata": {
      "needs_background": "light"
     },
     "output_type": "display_data"
    }
   ],
   "source": [
    "# It appears that on average the social smokers miss less work than the non-smokers.\n",
    "plt.bar(abs_smoker.index, abs_smoker);\n",
    "ax=plt.subplot()\n",
    "ax.set_xticks([0,1])\n",
    "plt.xlabel('Smoker and Non-Smoker')\n",
    "plt.ylabel('Total Hours Absent')\n",
    "plt.title('Smoker and Non-Smoker Hours Absent');"
   ]
  },
  {
   "cell_type": "markdown",
   "metadata": {},
   "source": [
    "This is a quick check to see if the day of the week had any influence on the number of absences taken. Interestingly, Friday seemed to have the fewest total absences reported."
   ]
  },
  {
   "cell_type": "code",
   "execution_count": 31,
   "metadata": {},
   "outputs": [
    {
     "data": {
      "image/png": "[encoded data removed]",
      "text/plain": [
       "<Figure size 432x288 with 1 Axes>"
      ]
     },
     "metadata": {
      "needs_background": "light"
     },
     "output_type": "display_data"
    }
   ],
   "source": [
    "#Bar graph to display the number of hours missed on the days of the week.\n",
    "plt.hist(df_abs['day']);\n",
    "ax=plt.subplot()\n",
    "ax.set_xticks([2,3,4,5,6,])\n",
    "plt.xlabel('Day of the Week')\n",
    "plt.ylabel('Number of Reported Absences')\n",
    "plt.title('Number of Reported Absences on Each Day of the Week');"
   ]
  },
  {
   "cell_type": "markdown",
   "metadata": {},
   "source": [
    "In this section I wanted to answer the question, \"Does an employees service time correlate to taking more absent time?\" Does an employee with more seniority take more time off? When I plotted the scatter of the two variable there seemed to be a slight positive correlation. I then found the line of regression to get a visual of how the relationship."
   ]
  },
  {
   "cell_type": "code",
   "execution_count": 33,
   "metadata": {},
   "outputs": [
    {
     "name": "stdout",
     "output_type": "stream",
     "text": [
      "service_time\n",
      "1      4.857143\n",
      "3      7.750000\n",
      "4      7.375000\n",
      "6      4.428571\n",
      "7      3.857143\n",
      "8      4.461538\n",
      "9      4.888889\n",
      "10     6.254545\n",
      "11     6.920000\n",
      "12     7.655738\n",
      "13     9.712329\n",
      "14     8.235294\n",
      "15     5.250000\n",
      "16    13.578947\n",
      "17     6.300000\n",
      "18     5.394558\n",
      "24     8.000000\n",
      "29     3.200000\n",
      "Name: absent_time, dtype: float64\n"
     ]
    }
   ],
   "source": [
    "#Another dataframe with the \"service time\" and the corresponding \"absent time mean.\"\n",
    "abs_mean = df_abs.groupby(['service_time']).absent_time.mean()\n",
    "print(abs_mean)"
   ]
  },
  {
   "cell_type": "code",
   "execution_count": 59,
   "metadata": {},
   "outputs": [
    {
     "name": "stdout",
     "output_type": "stream",
     "text": [
      "[0.0272165]\n",
      "6.234095319012721\n"
     ]
    },
    {
     "data": {
      "image/png": "[encoded data removed]",
      "text/plain": [
       "<Figure size 432x288 with 1 Axes>"
      ]
     },
     "metadata": {
      "needs_background": "light"
     },
     "output_type": "display_data"
    }
   ],
   "source": [
    "#In an attempt to better understant the relationship between service time and absenteeism, I created a line of regression \n",
    "#to determine if there is a strong enough relationship between the two attributes to make a predication.\n",
    "X=abs_mean.index\n",
    "X=X.values.reshape(-1,1)\n",
    "y=abs_mean\n",
    "plt.scatter(X, y,);\n",
    "regr2=linear_model.LinearRegression()\n",
    "regr2.fit(X, y)\n",
    "plt.scatter(X,y)\n",
    "print(regr2.coef_)\n",
    "print(regr2.intercept_)\n",
    "x=np.array(range(0, 30))\n",
    "y2=(regr2.coef_*x + regr2.intercept_)\n",
    "plt.plot(x,y2,color='purple')\n",
    "plt.xlabel('Service Time')\n",
    "plt.ylabel('Mean Absentee Hours')\n",
    "plt.title('Service Time and Mean Absentee Hours');"
   ]
  },
  {
   "cell_type": "markdown",
   "metadata": {},
   "source": [
    "Another question I had was, \"Do parents take more time off than those without children?\" This time I plotted the information on a bar plot. I compared the number of children to the mean hours the parent had taken off work. It showed that the number of children increased the number of hours (on average) that an employee took off. This seemed like a pretty strong relationship up to 3 children, then the number dropped for 4 children."
   ]
  },
  {
   "cell_type": "code",
   "execution_count": 26,
   "metadata": {},
   "outputs": [
    {
     "name": "stdout",
     "output_type": "stream",
     "text": [
      "children\n",
      "0     5.385906\n",
      "1     6.030568\n",
      "2    10.570513\n",
      "3    12.200000\n",
      "4     7.285714\n",
      "Name: Absent_time, dtype: float64\n"
     ]
    }
   ],
   "source": [
    "#Parents and their average absent time.\n",
    "abs_parent = df_abs.groupby(['children']).absent_time.mean()\n",
    "print(abs_parent)\n",
    "\n"
   ]
  },
  {
   "cell_type": "code",
   "execution_count": 41,
   "metadata": {},
   "outputs": [
    {
     "data": {
      "image/png": "[encoded data removed]",
      "text/plain": [
       "<Figure size 432x288 with 1 Axes>"
      ]
     },
     "metadata": {
      "needs_background": "light"
     },
     "output_type": "display_data"
    }
   ],
   "source": [
    "#Looking at this bar plot of absenteeism time in hours and the number of children employees have, you can see that\n",
    "#the more children employees have the more time they are absent on average.\n",
    "plt.bar(abs_parent.index, abs_parent)\n",
    "plt.xlabel('Number of Children')\n",
    "plt.ylabel('Mean Number of Hours Absent')\n",
    "plt.title('Parental Mean Hours Absent');"
   ]
  },
  {
   "cell_type": "code",
   "execution_count": 39,
   "metadata": {},
   "outputs": [
    {
     "data": {
      "image/png": "[encoded data removed]",
      "text/plain": [
       "<Figure size 432x288 with 1 Axes>"
      ]
     },
     "metadata": {
      "needs_background": "light"
     },
     "output_type": "display_data"
    }
   ],
   "source": [
    "#With the data from the df abs_parent, I plotted the mean of the time absent for parents with the number of children they\n",
    "#have. This showed a positive correlation. This led me to create the line of regression and place it on the visual. \n",
    "X=abs_parent.index\n",
    "X=X.values.reshape(-1,1)\n",
    "y=abs_parent\n",
    "regr=linear_model.LinearRegression()\n",
    "regr.fit(X, y)\n",
    "plt.scatter(X,y)\n",
    "x=[0,1,2,3,4,]\n",
    "y2=(regr.coef_*x + regr.intercept_)\n",
    "plt.plot(x,y2,color='red')\n",
    "plt.xlabel('Number of Children')\n",
    "plt.ylabel('Mean hours of Absenteeism')\n",
    "plt.title('Parent Mean Hours of Absenteeism');"
   ]
  },
  {
   "cell_type": "code",
   "execution_count": 36,
   "metadata": {},
   "outputs": [
    {
     "name": "stdout",
     "output_type": "stream",
     "text": [
      "The standard deviation for parent absences: 2.647116225829073\n",
      "The linear regression slope for parent absence mean and number of children: [0.99690488]\n",
      "The linear regression y-intercept for parent absence mean and number of children: 6.300730405356588\n"
     ]
    }
   ],
   "source": [
    "#I decided to print out the standard deviation and linear regression information.\n",
    "abs_par_std=np.std(abs_parent)\n",
    "print(\"The standard deviation for parent absences: \"+ str(abs_par_std))\n",
    "print(\"The linear regression slope for parent absence mean and number of children: \" + str(regr.coef_))\n",
    "print(\"The linear regression y-intercept for parent absence mean and number of children: \" + str(regr.intercept_))"
   ]
  },
  {
   "cell_type": "markdown",
   "metadata": {},
   "source": [
    "Conclusion\n",
    "\n",
    "The data I decided to work with concerned the absenteeism of employees at a company. This data included 27 attributes about each employee. The data was complete without any \"null\" cells and all of the values were stored as integers. The data started out very clean and only took a little bit of \"wrangling\" to get it in a good format. I started by changing the column names so that they would be easier to work with. After that I started working on a series of questions that interested me. \n",
    "\n",
    "The questions were: Which employee had the most absences? Does the number of years of service influence how often an employee is absent? Do the employees in general abuse absences? Are there any attributes that predict an employee will miss more than the average number of days of work?\n",
    "\n",
    "My conclusion is that this data really does not provide enough of a population to make any absolute conclusions. This data was very clean but with only 36 employees to work with there was no overriding patterns that would lead to a prediction. With that said, only one attribute seems to be a predictor based on the information in the data set. If an employee has children they tend to miss more work than employees without. Further the more children employees have the greater the chance they will miss more work. There might be several reasons for this, sick children need supervision and many daycares will not allow ill children to attend. This leads to employees staying home to take care of them. \n",
    "\n",
    "I also noticed that the employees for the most part are not abusing their absences. The graph of the number of absences reported was skewed to the right meaning that most of the employees had fewer than 3 absences. The skew is also displayed in the fact that the mean number of days absent is 20.5 and the median is 9.\n",
    "\n",
    "Is this project I found that there was not enough of a correlation between age, smoking, or service time to make a prediction about the employees. Even the one attribute that showed some relationship had a large standard deviation, meaning that it would not be as accurate to make predictions with."
   ]
  }
 ],
 "metadata": {
  "kernelspec": {
   "display_name": "Python 3",
   "language": "python",
   "name": "python3"
  },
  "language_info": {
   "codemirror_mode": {
    "name": "ipython",
    "version": 3
   },
   "file_extension": ".py",
   "mimetype": "text/x-python",
   "name": "python",
   "nbconvert_exporter": "python",
   "pygments_lexer": "ipython3",
   "version": "3.7.2"
  }
 },
 "nbformat": 4,
 "nbformat_minor": 2
}
